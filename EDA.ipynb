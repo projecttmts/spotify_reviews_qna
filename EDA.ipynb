{
 "cells": [
  {
   "cell_type": "code",
   "execution_count": 52,
   "metadata": {},
   "outputs": [],
   "source": [
    "from dotenv import load_dotenv\n",
    "from openai import OpenAI\n",
    "from langchain.embeddings import HuggingFaceEmbeddings\n",
    "from langchain.vectorstores import Pinecone\n",
    "from langchain_openai import ChatOpenAI \n",
    "from langchain.document_loaders import DataFrameLoader\n",
    "from langchain.prompts import PromptTemplate\n",
    "from langchain.retrievers.multi_query import MultiQueryRetriever\n",
    "from langchain_core.messages import HumanMessage, SystemMessage\n",
    "from langchain.evaluation import load_evaluator\n",
    "\n",
    "from langchain.globals import set_debug\n",
    "\n",
    "import pandas as pd\n",
    "import langdetect as ld\n",
    "import pinecone\n",
    "\n",
    "\n",
    "import os"
   ]
  },
  {
   "cell_type": "code",
   "execution_count": null,
   "metadata": {},
   "outputs": [],
   "source": []
  },
  {
   "cell_type": "code",
   "execution_count": 5,
   "metadata": {},
   "outputs": [],
   "source": [
    "load_dotenv()\n",
    "openai_api_key = os.getenv(\"OPENAI_API_KEY\")\n",
    "# set_debug(True)"
   ]
  },
  {
   "cell_type": "code",
   "execution_count": 6,
   "metadata": {},
   "outputs": [],
   "source": [
    "reviews_df = pd.read_csv(\"SPOTIFY_REVIEWS.csv\", index_col=0)"
   ]
  },
  {
   "cell_type": "code",
   "execution_count": 135,
   "metadata": {},
   "outputs": [
    {
     "data": {
      "text/html": [
       "<div>\n",
       "<style scoped>\n",
       "    .dataframe tbody tr th:only-of-type {\n",
       "        vertical-align: middle;\n",
       "    }\n",
       "\n",
       "    .dataframe tbody tr th {\n",
       "        vertical-align: top;\n",
       "    }\n",
       "\n",
       "    .dataframe thead th {\n",
       "        text-align: right;\n",
       "    }\n",
       "</style>\n",
       "<table border=\"1\" class=\"dataframe\">\n",
       "  <thead>\n",
       "    <tr style=\"text-align: right;\">\n",
       "      <th></th>\n",
       "      <th>review_id</th>\n",
       "      <th>pseudo_author_id</th>\n",
       "      <th>author_name</th>\n",
       "      <th>review_text</th>\n",
       "      <th>review_rating</th>\n",
       "      <th>review_likes</th>\n",
       "      <th>author_app_version</th>\n",
       "      <th>review_timestamp</th>\n",
       "    </tr>\n",
       "  </thead>\n",
       "  <tbody>\n",
       "    <tr>\n",
       "      <th>0</th>\n",
       "      <td>14a011a8-7544-47b4-8480-c502af0ac26f</td>\n",
       "      <td>152618553977019693742</td>\n",
       "      <td>A Google user</td>\n",
       "      <td>Use it every day</td>\n",
       "      <td>5</td>\n",
       "      <td>1</td>\n",
       "      <td>1.1.0.91</td>\n",
       "      <td>2014-05-27 14:21:48</td>\n",
       "    </tr>\n",
       "    <tr>\n",
       "      <th>1</th>\n",
       "      <td>bfa8876b-470e-4640-83a7-77427f7f37e8</td>\n",
       "      <td>234382942865437071667</td>\n",
       "      <td>A Google user</td>\n",
       "      <td>I enjoy the awesome UI of this app, and it has...</td>\n",
       "      <td>5</td>\n",
       "      <td>4</td>\n",
       "      <td>1.1.0.91</td>\n",
       "      <td>2014-05-27 14:36:02</td>\n",
       "    </tr>\n",
       "    <tr>\n",
       "      <th>2</th>\n",
       "      <td>70e8252f-058a-47d9-b066-df9e1571c970</td>\n",
       "      <td>174473604608358796368</td>\n",
       "      <td>A Google user</td>\n",
       "      <td>Love it! Especially the new design!</td>\n",
       "      <td>5</td>\n",
       "      <td>2</td>\n",
       "      <td>1.1.0.91</td>\n",
       "      <td>2014-05-27 14:40:01</td>\n",
       "    </tr>\n",
       "    <tr>\n",
       "      <th>3</th>\n",
       "      <td>672a155a-e81e-4d28-bdeb-a74c031bc072</td>\n",
       "      <td>286593453219054880269</td>\n",
       "      <td>A Google user</td>\n",
       "      <td>Awesome UI, best music app out there!</td>\n",
       "      <td>5</td>\n",
       "      <td>1</td>\n",
       "      <td>1.1.0.91</td>\n",
       "      <td>2014-05-27 15:17:20</td>\n",
       "    </tr>\n",
       "    <tr>\n",
       "      <th>4</th>\n",
       "      <td>bbc1bf95-ed36-41a1-8b98-0f2e314caea5</td>\n",
       "      <td>167276875678680630145</td>\n",
       "      <td>A Google user</td>\n",
       "      <td>As a professional Android developer I'm glad t...</td>\n",
       "      <td>5</td>\n",
       "      <td>10</td>\n",
       "      <td>1.1.0.91</td>\n",
       "      <td>2014-05-27 15:26:48</td>\n",
       "    </tr>\n",
       "  </tbody>\n",
       "</table>\n",
       "</div>"
      ],
      "text/plain": [
       "                              review_id       pseudo_author_id    author_name  \\\n",
       "0  14a011a8-7544-47b4-8480-c502af0ac26f  152618553977019693742  A Google user   \n",
       "1  bfa8876b-470e-4640-83a7-77427f7f37e8  234382942865437071667  A Google user   \n",
       "2  70e8252f-058a-47d9-b066-df9e1571c970  174473604608358796368  A Google user   \n",
       "3  672a155a-e81e-4d28-bdeb-a74c031bc072  286593453219054880269  A Google user   \n",
       "4  bbc1bf95-ed36-41a1-8b98-0f2e314caea5  167276875678680630145  A Google user   \n",
       "\n",
       "                                         review_text  review_rating  \\\n",
       "0                                   Use it every day              5   \n",
       "1  I enjoy the awesome UI of this app, and it has...              5   \n",
       "2                Love it! Especially the new design!              5   \n",
       "3              Awesome UI, best music app out there!              5   \n",
       "4  As a professional Android developer I'm glad t...              5   \n",
       "\n",
       "   review_likes author_app_version     review_timestamp  \n",
       "0             1           1.1.0.91  2014-05-27 14:21:48  \n",
       "1             4           1.1.0.91  2014-05-27 14:36:02  \n",
       "2             2           1.1.0.91  2014-05-27 14:40:01  \n",
       "3             1           1.1.0.91  2014-05-27 15:17:20  \n",
       "4            10           1.1.0.91  2014-05-27 15:26:48  "
      ]
     },
     "execution_count": 135,
     "metadata": {},
     "output_type": "execute_result"
    }
   ],
   "source": [
    "reviews_df.head()"
   ]
  },
  {
   "cell_type": "code",
   "execution_count": 136,
   "metadata": {},
   "outputs": [
    {
     "data": {
      "text/plain": [
       "(3377423, 8)"
      ]
     },
     "execution_count": 136,
     "metadata": {},
     "output_type": "execute_result"
    }
   ],
   "source": [
    "reviews_df.shape"
   ]
  },
  {
   "attachments": {},
   "cell_type": "markdown",
   "metadata": {},
   "source": [
    "Count the (approximate) number of words for each review"
   ]
  },
  {
   "cell_type": "code",
   "execution_count": 137,
   "metadata": {},
   "outputs": [],
   "source": [
    "reviews_df['review_text_len'] = reviews_df['review_text'].str.split().str.len()"
   ]
  },
  {
   "attachments": {},
   "cell_type": "markdown",
   "metadata": {},
   "source": [
    "For demo purposes, we will only use the reviews for the app version 8.8.xx.xxx. Additionally, concentrating on a specific version will enhance our comprehension of the data (considering that different versions may exhibit varying review distributions or points of emphasis)."
   ]
  },
  {
   "cell_type": "code",
   "execution_count": 142,
   "metadata": {},
   "outputs": [
    {
     "data": {
      "text/plain": [
       "(286853, 9)"
      ]
     },
     "execution_count": 142,
     "metadata": {},
     "output_type": "execute_result"
    }
   ],
   "source": [
    "reviews_8_8_df = reviews_df[reviews_df.author_app_version.str.startswith('8.8') == True]\n",
    "reviews_8_8_df.shape"
   ]
  },
  {
   "attachments": {},
   "cell_type": "markdown",
   "metadata": {},
   "source": [
    "To build our knowledge base, we will include only the reviews with at least 10 words and 3 likes. Longer reviews are more likely to contain detailed information, and reviews with more likes are more likely to be relevant to many users. Alternatively we can also use LLM to filter out reviews that are unlikely to be useful for our analysis."
   ]
  },
  {
   "cell_type": "code",
   "execution_count": 158,
   "metadata": {},
   "outputs": [],
   "source": [
    "filtered_reviews_df = reviews_8_8_df.query(\"review_text_len >=10 and review_likes >= 3\").copy()"
   ]
  },
  {
   "cell_type": "code",
   "execution_count": 159,
   "metadata": {},
   "outputs": [
    {
     "data": {
      "text/plain": [
       "(9415, 9)"
      ]
     },
     "execution_count": 159,
     "metadata": {},
     "output_type": "execute_result"
    }
   ],
   "source": [
    "filtered_reviews_df.shape"
   ]
  },
  {
   "attachments": {},
   "cell_type": "markdown",
   "metadata": {},
   "source": [
    "Only include reviews that are in English"
   ]
  },
  {
   "cell_type": "code",
   "execution_count": 160,
   "metadata": {},
   "outputs": [],
   "source": [
    "for idx, row in filtered_reviews_df.iterrows():\n",
    "    try:\n",
    "        lang = ld.detect(row['review_text'])\n",
    "    except:\n",
    "        lang = None\n",
    "    filtered_reviews_df.loc[idx, 'language'] = lang"
   ]
  },
  {
   "cell_type": "code",
   "execution_count": 161,
   "metadata": {},
   "outputs": [],
   "source": [
    "filtered_reviews_df = filtered_reviews_df.query(\"language == 'en'\")"
   ]
  },
  {
   "cell_type": "code",
   "execution_count": 162,
   "metadata": {},
   "outputs": [
    {
     "data": {
      "text/plain": [
       "(9288, 10)"
      ]
     },
     "execution_count": 162,
     "metadata": {},
     "output_type": "execute_result"
    }
   ],
   "source": [
    "filtered_reviews_df.shape"
   ]
  },
  {
   "cell_type": "code",
   "execution_count": 163,
   "metadata": {},
   "outputs": [
    {
     "data": {
      "text/plain": [
       "count    9288.000000\n",
       "mean       64.987511\n",
       "std        25.111043\n",
       "min        10.000000\n",
       "25%        47.000000\n",
       "50%        70.000000\n",
       "75%        86.000000\n",
       "max       109.000000\n",
       "Name: review_text_len, dtype: float64"
      ]
     },
     "execution_count": 163,
     "metadata": {},
     "output_type": "execute_result"
    }
   ],
   "source": [
    "filtered_reviews_df.review_text_len.describe()"
   ]
  },
  {
   "attachments": {},
   "cell_type": "markdown",
   "metadata": {},
   "source": [
    "The length of each review is short enough, so we don't need to do any text splitting."
   ]
  },
  {
   "cell_type": "code",
   "execution_count": 164,
   "metadata": {},
   "outputs": [],
   "source": [
    "filtered_reviews_df = filtered_reviews_df.drop(columns = ['review_id', 'pseudo_author_id', 'author_name', 'review_text_len', 'language'])"
   ]
  },
  {
   "cell_type": "code",
   "execution_count": 165,
   "metadata": {},
   "outputs": [
    {
     "data": {
      "text/html": [
       "<div>\n",
       "<style scoped>\n",
       "    .dataframe tbody tr th:only-of-type {\n",
       "        vertical-align: middle;\n",
       "    }\n",
       "\n",
       "    .dataframe tbody tr th {\n",
       "        vertical-align: top;\n",
       "    }\n",
       "\n",
       "    .dataframe thead th {\n",
       "        text-align: right;\n",
       "    }\n",
       "</style>\n",
       "<table border=\"1\" class=\"dataframe\">\n",
       "  <thead>\n",
       "    <tr style=\"text-align: right;\">\n",
       "      <th></th>\n",
       "      <th>review_text</th>\n",
       "      <th>review_rating</th>\n",
       "      <th>review_likes</th>\n",
       "      <th>author_app_version</th>\n",
       "      <th>review_timestamp</th>\n",
       "    </tr>\n",
       "  </thead>\n",
       "  <tbody>\n",
       "    <tr>\n",
       "      <th>2950346</th>\n",
       "      <td>It seems like the recent updates broke a few t...</td>\n",
       "      <td>1</td>\n",
       "      <td>146</td>\n",
       "      <td>8.8.0.347</td>\n",
       "      <td>2023-01-13 12:32:35</td>\n",
       "    </tr>\n",
       "    <tr>\n",
       "      <th>2950368</th>\n",
       "      <td>This app is amazing I really really like it si...</td>\n",
       "      <td>5</td>\n",
       "      <td>10</td>\n",
       "      <td>8.8.0.347</td>\n",
       "      <td>2023-01-13 13:01:42</td>\n",
       "    </tr>\n",
       "    <tr>\n",
       "      <th>2950617</th>\n",
       "      <td>I love Spotify because it's like taking all my...</td>\n",
       "      <td>5</td>\n",
       "      <td>21</td>\n",
       "      <td>8.8.0.347</td>\n",
       "      <td>2023-01-13 18:40:59</td>\n",
       "    </tr>\n",
       "    <tr>\n",
       "      <th>2950632</th>\n",
       "      <td>the last update is so bad we can't see preview...</td>\n",
       "      <td>1</td>\n",
       "      <td>3</td>\n",
       "      <td>8.8.0.347</td>\n",
       "      <td>2023-01-13 19:03:33</td>\n",
       "    </tr>\n",
       "    <tr>\n",
       "      <th>2950633</th>\n",
       "      <td>I use free Spotify &amp; would rate 5 stars but in...</td>\n",
       "      <td>3</td>\n",
       "      <td>21</td>\n",
       "      <td>8.8.0.347</td>\n",
       "      <td>2023-01-13 19:03:40</td>\n",
       "    </tr>\n",
       "  </tbody>\n",
       "</table>\n",
       "</div>"
      ],
      "text/plain": [
       "                                               review_text  review_rating  \\\n",
       "2950346  It seems like the recent updates broke a few t...              1   \n",
       "2950368  This app is amazing I really really like it si...              5   \n",
       "2950617  I love Spotify because it's like taking all my...              5   \n",
       "2950632  the last update is so bad we can't see preview...              1   \n",
       "2950633  I use free Spotify & would rate 5 stars but in...              3   \n",
       "\n",
       "         review_likes author_app_version     review_timestamp  \n",
       "2950346           146          8.8.0.347  2023-01-13 12:32:35  \n",
       "2950368            10          8.8.0.347  2023-01-13 13:01:42  \n",
       "2950617            21          8.8.0.347  2023-01-13 18:40:59  \n",
       "2950632             3          8.8.0.347  2023-01-13 19:03:33  \n",
       "2950633            21          8.8.0.347  2023-01-13 19:03:40  "
      ]
     },
     "execution_count": 165,
     "metadata": {},
     "output_type": "execute_result"
    }
   ],
   "source": [
    "filtered_reviews_df.head()"
   ]
  },
  {
   "attachments": {},
   "cell_type": "markdown",
   "metadata": {},
   "source": [
    "Load the reviews in the dataframe into documents. We will use the review text as the document content and the review rating, review likes, app version, and review timestamp as the metadata."
   ]
  },
  {
   "cell_type": "code",
   "execution_count": 166,
   "metadata": {},
   "outputs": [],
   "source": [
    "loader = DataFrameLoader(filtered_reviews_df, 'review_text')"
   ]
  },
  {
   "cell_type": "code",
   "execution_count": 167,
   "metadata": {},
   "outputs": [],
   "source": [
    "documents = loader.load()"
   ]
  },
  {
   "attachments": {},
   "cell_type": "markdown",
   "metadata": {},
   "source": [
    "Initiate the Pinecone client and create a new index."
   ]
  },
  {
   "cell_type": "code",
   "execution_count": 8,
   "metadata": {},
   "outputs": [],
   "source": [
    "pinecone.init(\n",
    "    api_key=os.getenv(\"PINECONE_API_KEY\"),  # find at app.pinecone.io\n",
    "    environment=os.getenv(\"PINECONE_ENV\"),  # next to api key in console\n",
    ")\n",
    "\n",
    "index_name = \"spotify-reviews\"\n",
    "\n",
    "if index_name not in pinecone.list_indexes():\n",
    "        pinecone.create_index(name=index_name, metric=\"cosine\", dimension=768)"
   ]
  },
  {
   "cell_type": "code",
   "execution_count": 9,
   "metadata": {},
   "outputs": [],
   "source": [
    "embeddings = HuggingFaceEmbeddings(model_name=\"sentence-transformers/all-mpnet-base-v2\")\n",
    "pinecone_index = Pinecone.from_existing_index(index_name, embeddings)"
   ]
  },
  {
   "attachments": {},
   "cell_type": "markdown",
   "metadata": {},
   "source": [
    "Add all the documents to the Pinecone index."
   ]
  },
  {
   "cell_type": "code",
   "execution_count": 169,
   "metadata": {},
   "outputs": [],
   "source": [
    "error_doc = []\n",
    "\n",
    "for doc in documents:\n",
    "    try:\n",
    "        pinecone_index.add_documents([doc])\n",
    "    except Exception as e:\n",
    "        error_doc.append(doc)"
   ]
  },
  {
   "attachments": {},
   "cell_type": "markdown",
   "metadata": {},
   "source": [
    "First we check if the question is flagged as inappropriate by the OpenAI Moderation API. We then use a MultiQueryRetriever to generate three different versions the question, in order to increase the chance of finding relevant reviews through embedding similarity search. For each question, n relevant reviews are retrieved, but the total number of documents returned could be less than 3*n due to duplicates. For our case, having irrelevant reviews injected into the prompt is not a big issue, so we will not perform any reranking or contextual compression. Instead we will sort the reviews by the number of likes, and return the reviews with the highest number of likes as they are more likely to be relevant to many users. "
   ]
  },
  {
   "cell_type": "code",
   "execution_count": 10,
   "metadata": {},
   "outputs": [],
   "source": [
    "def _create_qa_chain(llm):\n",
    "    \"\"\"Creates a question answering chain with the given language model.\n",
    "    \n",
    "    Args:\n",
    "        llm: The language model to use.\n",
    "    \n",
    "    Returns:\n",
    "        BaseCombineDocumentChain: The question answering chain.\n",
    "    \"\"\"\n",
    "    from langchain.chains.question_answering import load_qa_chain\n",
    "    \n",
    "    prompt_template = \"Below are some reviews for our music streaming application called Spotify. Answer the question in the end based on the provided reviews. If none of the reviews are not relevant to the question, just say that you don't know, don't try to make up an answer. \\n### \\nReviews:  \\n{context} \\n### \\nQuestion: \\n{question}\"\n",
    "    prompt = PromptTemplate(\n",
    "        template=prompt_template, input_variables=[\"context\", \"question\"]\n",
    "    )\n",
    "    qa_chain = load_qa_chain(llm, chain_type=\"stuff\", prompt=prompt)\n",
    "    return qa_chain\n",
    "\n",
    "def _create_mq_retriever(llm, index, k=20):\n",
    "    \"\"\"Creates a multi-query retriever with the given language model and index.\n",
    "    \n",
    "    Args:\n",
    "        llm: The language model to use.\n",
    "        index: The index to use.\n",
    "        k (int): The number of documents to retrieve.\n",
    "    \n",
    "    Returns:\n",
    "        MultiQueryRetriever: The multi-query retriever.\n",
    "    \"\"\"\n",
    "    mq_retriever = MultiQueryRetriever.from_llm(\n",
    "        retriever=index.as_retriever(search_kwargs={\"k\": k}), llm=llm)\n",
    "    \n",
    "    mq_retriever.llm_chain.prompt.template = 'You are an AI language model assistant. Your task is to generate 3 different versions of queries from the user question to retrieve relevant reviews written for our music streaming application called Spotify. By generating multiple perspectives on the user question, your goal is to help the user overcome some of the limitations of distance-based similarity search. Provide these alternative queries separated by newlines. \\n### User question: {question}'\n",
    "    \n",
    "    return mq_retriever\n",
    "\n",
    "def _flag_input(input):\n",
    "    \"\"\"Flag inappropriate input using OpenAI's Moderation API.\n",
    "\n",
    "    Args:\n",
    "        input (str): The input to flag.\n",
    "\n",
    "    Returns:\n",
    "        bool: True if the input is flagged, False otherwise.\n",
    "    \"\"\"\n",
    "    client = OpenAI()\n",
    "    response = client.moderations.create(input=input)\n",
    "    return response.results[0].flagged\n",
    "\n",
    "def _choose_top_reviews(docs, k):\n",
    "    \"\"\"Choose the top k reviews by likes.\n",
    "    \n",
    "    Args:\n",
    "        docs (list): A list of documents.\n",
    "        k (int): The number of documents to choose.\n",
    "        \n",
    "    Returns:\n",
    "        list: A list of documents.\n",
    "    \"\"\"\n",
    "    idx_likes = {idx: doc.metadata['review_likes'] for idx, doc in enumerate(docs)}\n",
    "    \n",
    "    sorted_idx_likes = {k: v for k, v in sorted(idx_likes.items(), key=lambda item: item[1], reverse=True)}\n",
    "    top_k_idx = list(sorted_idx_likes.keys())[:k]\n",
    "    \n",
    "    return [docs[idx] for idx in top_k_idx]\n",
    "    \n",
    "def qa_pipeline(llm, index, question, k=40):\n",
    "    \"\"\"A question answering pipeline that takes a question and returns an answer synthesized from the relevant reviews retrieved from the index.\n",
    "\n",
    "    Args:\n",
    "        question (str): The question to answer.\n",
    "        final_k (int): The number of reviews to retrieve from the index.\n",
    "\n",
    "    Returns:\n",
    "        _type_: _description_\n",
    "    \"\"\"\n",
    "    qa_chain = _create_qa_chain(llm)\n",
    "    retriever = _create_mq_retriever(llm, index, k=20)\n",
    "    \n",
    "    if _flag_input(question):\n",
    "        return \"Your question contains inappropriate content. Please try again.\"\n",
    "    \n",
    "    docs = retriever.get_relevant_documents(question)\n",
    "    top_reviews = _choose_top_reviews(docs, k)\n",
    "    \n",
    "    result = qa_chain(\n",
    "        {\"input_documents\": top_reviews, \"question\": question}, return_only_outputs=False\n",
    "    )\n",
    "        \n",
    "    return result"
   ]
  },
  {
   "attachments": {},
   "cell_type": "markdown",
   "metadata": {},
   "source": [
    "We would want to inject higher number of reviews for open ended question such as:\n",
    "1. What are the specific features or aspects that users appreciate the most in our application?\n",
    "2. In comparison to our applciation, which music streaming platform are users most likely to compare ours with?\n",
    "3. What are the primary reasons users express dissatisfaction with Spotify?\n",
    "4. Can you identify emerging trends or patterns in recent user reviews that may impact our product strategy?\n",
    "\n",
    "GPT-3.5 tend to give short response when the number of input documents (reviews) are long. Therefore, we will use GPT-4. "
   ]
  },
  {
   "cell_type": "code",
   "execution_count": 11,
   "metadata": {},
   "outputs": [],
   "source": [
    "llm = ChatOpenAI(model=\"gpt-4-1106-preview\", openai_api_key=openai_api_key, temperature=0)"
   ]
  },
  {
   "cell_type": "code",
   "execution_count": 12,
   "metadata": {},
   "outputs": [
    {
     "name": "stderr",
     "output_type": "stream",
     "text": [
      "c:\\Users\\Marselo\\OneDrive\\Documents\\GitHub\\spotify_review_qa\\newenv\\lib\\site-packages\\langchain_core\\_api\\deprecation.py:117: LangChainDeprecationWarning: The function `__call__` was deprecated in LangChain 0.1.0 and will be removed in 0.2.0. Use invoke instead.\n",
      "  warn_deprecated(\n"
     ]
    }
   ],
   "source": [
    "question1 = \"What are the specific features or aspects that users appreciate the most in our application?\"\n",
    "result1 = qa_pipeline(llm, pinecone_index, question1)"
   ]
  },
  {
   "cell_type": "code",
   "execution_count": 21,
   "metadata": {},
   "outputs": [
    {
     "name": "stdout",
     "output_type": "stream",
     "text": [
      "Based on the provided reviews, users appreciate the following features or aspects of the Spotify application:\n",
      "\n",
      "1. Music Discovery: Users enjoy the recommendation algorithms, Discover Weekly, Release Radar playlists, and the AI DJ feature that help them find new music and artists that match their tastes.\n",
      "\n",
      "2. Playlist Functionality: The ability to create, share, and collaborate on playlists is highly valued by users.\n",
      "\n",
      "3. Offline Listening: The option to download playlists and listen to music offline is appreciated, especially for situations like road trips where there might be no signal.\n",
      "\n",
      "4. User Interface: Some users find the interface user-friendly, elegant, and easy to navigate, contributing to a positive user experience.\n",
      "\n",
      "5. Personalized Experience: Personalized playlists and recommendations that align with users' musical preferences are well-liked.\n",
      "\n",
      "6. Cross-Device Integration: Users appreciate the ability to integrate and play music across different devices.\n",
      "\n",
      "7. Global Music Selection: The vast selection of music from all over the world available on the platform is a significant positive for users.\n",
      "\n",
      "8. Sound Quality: High-quality sound production is mentioned as a positive aspect.\n",
      "\n",
      "9. Podcasts and Audiobooks: A range of podcasts and audiobooks available on the platform is a plus for some users.\n",
      "\n",
      "10. Responsiveness to Feedback: Some users appreciate that Spotify listens to customer feedback and makes changes accordingly, such as reverting UI changes that were not well-received.\n",
      "\n",
      "These are the specific features and aspects that users have mentioned appreciating in the Spotify application.\n"
     ]
    }
   ],
   "source": [
    "print(result1['output_text'])"
   ]
  },
  {
   "cell_type": "code",
   "execution_count": 257,
   "metadata": {},
   "outputs": [],
   "source": [
    "question2 = \"In comparison to our applciation, which music streaming platform are users most likely to compare ours with?\"\n",
    "result2 = qa_pipeline(llm, pinecone_index, question2)"
   ]
  },
  {
   "cell_type": "code",
   "execution_count": 258,
   "metadata": {},
   "outputs": [
    {
     "name": "stdout",
     "output_type": "stream",
     "text": [
      "Based on the provided reviews, users are most likely to compare your application, Spotify, with the following music streaming platforms:\n",
      "\n",
      "- Tidal\n",
      "- Amazon Music\n",
      "- YouTube Music\n",
      "- Apple Music\n",
      "\n",
      "These platforms are mentioned in various reviews as points of comparison for features such as audio quality, user interface, and music selection.\n"
     ]
    }
   ],
   "source": [
    "print(result2['output_text'])"
   ]
  },
  {
   "cell_type": "code",
   "execution_count": 46,
   "metadata": {},
   "outputs": [],
   "source": [
    "question3 = \"What are the primary reasons users express dissatisfaction with Spotify?\"\n",
    "result3 = qa_pipeline(llm, pinecone_index, question3)"
   ]
  },
  {
   "cell_type": "code",
   "execution_count": 47,
   "metadata": {},
   "outputs": [
    {
     "name": "stdout",
     "output_type": "stream",
     "text": [
      "The primary reasons users express dissatisfaction with Spotify, based on the provided reviews, include:\n",
      "\n",
      "1. Bugs and Technical Issues: Users report frequent bugs, crashes, and technical glitches that disrupt the app's functionality, such as songs not playing, downloaded songs disappearing, and the app not opening across devices.\n",
      "\n",
      "2. Ads: Non-premium users complain about an excessive number of ads that interrupt music playback and degrade the user experience. Some premium users also report receiving ads despite paying for the service.\n",
      "\n",
      "3. Poor Customer Service: Users mention poor customer service experiences, with issues not being resolved even after contacting support, and feeling ignored after reporting problems.\n",
      "\n",
      "4. Inconsistent Audio Quality: Some users experience varying audio quality, with songs sometimes playing clearly and other times sounding poor.\n",
      "\n",
      "5. User Interface and Experience: Complaints about the user interface being counterintuitive, difficult to navigate, and the app making simple tasks needlessly complicated.\n",
      "\n",
      "6. Changes to Features: Users are unhappy with the removal of previously free features, the inability to play songs on repeat, the inability to queue songs, and forced shuffle play for non-premium users.\n",
      "\n",
      "7. Premium Subscription Push: Users feel that Spotify is aggressively pushing for premium subscriptions by limiting basic functionalities and adding more ads for free users.\n",
      "\n",
      "8. Lack of Desired Features: Some users are dissatisfied with the absence of features such as HiFi streaming, a good shuffle algorithm, and the ability to see song history.\n",
      "\n",
      "9. Payment Issues: Some users find it inconvenient that Spotify does not accept certain payment methods like RuPay or Google Pay in specific regions.\n",
      "\n",
      "10. Monopolistic Behavior: Users express concern over Spotify's dominance in the market and the perception that it does not listen to user feedback or suggestions.\n",
      "\n",
      "11. Exploitation of Artists: There are mentions of Spotify being well-known for exploiting artists, which contributes to user dissatisfaction.\n",
      "\n",
      "12. Price Increase: Some users are unhappy with the price increase for the premium subscription, feeling it is not justified given the issues with the app.\n",
      "\n",
      "These are the primary reasons for user dissatisfaction as expressed in the reviews provided.\n"
     ]
    }
   ],
   "source": [
    "print(result3['output_text'])"
   ]
  },
  {
   "cell_type": "code",
   "execution_count": null,
   "metadata": {},
   "outputs": [],
   "source": [
    "question4 =  \"Can you identify emerging trends or patterns in recent user reviews that may impact our product strategy?\"\n",
    "result4 = qa_pipeline(llm, pinecone_index, question4)"
   ]
  },
  {
   "cell_type": "code",
   "execution_count": 237,
   "metadata": {},
   "outputs": [
    {
     "name": "stdout",
     "output_type": "stream",
     "text": [
      "Based on the provided user reviews, several emerging trends and patterns can be identified that may impact the product strategy for the music streaming application:\n",
      "\n",
      "1. **User Interface (UI) and User Experience (UX) Concerns**: Many users are expressing dissatisfaction with the UI and UX changes, particularly the new TikTok-style interface, navigation difficulties, and the lack of customization options. Users find the new UI less user-friendly and more focused on visuals rather than functionality.\n",
      "\n",
      "2. **Feature Requests and Bugs**: Users are requesting specific features such as the ability to swipe down to minimize the now playing screen, reordering songs in playlists, and better shuffle functionality. There are also complaints about bugs and issues with syncing between devices, auto-connect features, and problems with the app's stability and performance.\n",
      "\n",
      "3. **Ad Frequency and Placement**: Users are frustrated with the frequency and intrusiveness of ads, especially in the free version of the app. There are also complaints about ads in podcasts for premium users, which is seen as contradictory to the ad-free experience they pay for.\n",
      "\n",
      "4. **Content Availability and Recommendations**: Users have noted that songs are becoming unavailable, and there are complaints about the quality of the recommendation algorithm, with some finding it biased or not reflective of their tastes.\n",
      "\n",
      "5. **Pricing and Value**: There are mentions of price increases without corresponding improvements in service or features, leading to questions about the app's value proposition.\n",
      "\n",
      "6. **Communication and Transparency**: Users are asking for better communication regarding app updates, including detailed change logs and explanations of new features or changes.\n",
      "\n",
      "7. **Device Compatibility and Features**: There are requests for better compatibility with different devices and operating systems, such as improved functionality on tablets and PCs.\n",
      "\n",
      "8. **Security Features**: Some users are concerned about the lack of two-factor authentication (2fA) for account security.\n",
      "\n",
      "9. **Content Focus**: There is a sentiment that the app is pushing podcasts over music, which is not always aligned with user preferences.\n",
      "\n",
      "10. **Customer Service and Responsiveness**: Users appreciate when their feedback is heard and acted upon, as evidenced by positive comments when the UI was reverted to a previous state.\n",
      "\n",
      "To address these trends and patterns, the product strategy could focus on the following:\n",
      "\n",
      "- Enhancing UI/UX to be more intuitive and customizable, with a focus on functionality over visual appeal.\n",
      "- Implementing requested features and fixing bugs to improve overall app stability and performance.\n",
      "- Reevaluating the ad strategy to balance revenue with user experience, especially for premium subscribers.\n",
      "- Improving the recommendation algorithm to provide more accurate and diverse suggestions.\n",
      "- Communicating clearly with users about updates and changes, possibly through in-app change logs or detailed update descriptions.\n",
      "- Considering price adjustments or adding new features to justify the cost and enhance the value proposition.\n",
      "- Strengthening security features like 2fA to protect user accounts.\n",
      "- Balancing content offerings to cater to both music and podcast listeners.\n",
      "- Being responsive to user feedback and demonstrating a commitment to customer satisfaction.\n",
      "\n",
      "By addressing these concerns, the company can improve user satisfaction, retain subscribers, and potentially attract new users.\n"
     ]
    }
   ],
   "source": [
    "print(result4['output_text'])"
   ]
  },
  {
   "attachments": {},
   "cell_type": "markdown",
   "metadata": {},
   "source": [
    "Evaluation method with pre-defined rubrics"
   ]
  },
  {
   "cell_type": "code",
   "execution_count": 43,
   "metadata": {},
   "outputs": [],
   "source": [
    "def eval_with_rubric(llm, question, result):\n",
    "    \n",
    "    context = [doc.page_content for doc in result['input_documents']]\n",
    "    context = \"\\n\\n\".join(context)\n",
    "    \n",
    "    answer = result['output_text']\n",
    "    \n",
    "    \n",
    "    system_message = SystemMessage(content=\"You are an AI language model assistant. Your task is to evaluate how well the system answers a user question by looking at the context that the system uses to generate its response.\")\n",
    "    \n",
    "    human_message = HumanMessage(content=\"\"\"\n",
    "###\n",
    "Question: {question}\n",
    "###\n",
    "Context: {context}\n",
    "###\n",
    "Answer: {answer}\n",
    "###\n",
    "Compare the answer with the provided context. Ignore any differences in style, grammar, or punctuation. Answer the following questions:\n",
    "- Does the answer include any information outside the context provided? \n",
    "- Is the answer relevant to the question?\n",
    "- Is there any disagreement between the answer and the context?\"\"\".format(question=question, context=context, answer=answer))\n",
    "\n",
    "    messages = [system_message, human_message]\n",
    "    response = llm(messages)\n",
    "    return response"
   ]
  },
  {
   "cell_type": "code",
   "execution_count": null,
   "metadata": {},
   "outputs": [],
   "source": [
    "eval1 = eval_with_rubric(llm, question1, result1)"
   ]
  },
  {
   "cell_type": "code",
   "execution_count": 41,
   "metadata": {},
   "outputs": [
    {
     "name": "stdout",
     "output_type": "stream",
     "text": [
      "- The answer does not include any information outside the context provided. It accurately summarizes the positive aspects of the Spotify application as mentioned in the user reviews.\n",
      "- The answer is relevant to the question. It directly addresses the question by listing the specific features or aspects that users appreciate the most in the Spotify application.\n",
      "- There is no disagreement between the answer and the context. The answer correctly reflects the sentiments expressed in the user reviews regarding the features and aspects they enjoy about Spotify.\n"
     ]
    }
   ],
   "source": [
    "print(eval1.content)"
   ]
  },
  {
   "cell_type": "code",
   "execution_count": 48,
   "metadata": {},
   "outputs": [],
   "source": [
    "eval3 = eval_with_rubric(llm, question3, result3)"
   ]
  },
  {
   "cell_type": "code",
   "execution_count": 49,
   "metadata": {},
   "outputs": [
    {
     "name": "stdout",
     "output_type": "stream",
     "text": [
      "- The answer does not include any information outside the context provided. It accurately summarizes the complaints and issues mentioned in the user reviews.\n",
      "- The answer is relevant to the question as it directly addresses the primary reasons for user dissatisfaction with Spotify, which is what the question asked for.\n",
      "- There is no disagreement between the answer and the context. The answer correctly reflects the sentiments and specific points of dissatisfaction expressed by the users in the provided reviews.\n"
     ]
    }
   ],
   "source": [
    "print(eval3.content)"
   ]
  },
  {
   "attachments": {},
   "cell_type": "markdown",
   "metadata": {},
   "source": [
    "Evaluation method by comparing with reference ideal answer"
   ]
  },
  {
   "cell_type": "code",
   "execution_count": 51,
   "metadata": {},
   "outputs": [],
   "source": [
    "accuracy_criteria = {\n",
    "    \"accuracy\": \"\"\"\n",
    "Score 1: The answer is completely unrelated to the reference.\n",
    "Score 3: The answer has minor relevance but does not align with the reference.\n",
    "Score 5: The answer has moderate relevance but contains inaccuracies.\n",
    "Score 7: The answer aligns with the reference but has minor errors or omissions.\n",
    "Score 10: The answer is completely accurate and aligns perfectly with the reference.\"\"\"\n",
    "}\n",
    "\n",
    "evaluator = load_evaluator(\n",
    "    \"labeled_score_string\",\n",
    "    criteria=accuracy_criteria,\n",
    "    llm=llm,\n",
    ")"
   ]
  },
  {
   "attachments": {},
   "cell_type": "markdown",
   "metadata": {},
   "source": [
    "It's hard to come up with a reference answer for an open-ended question. Therefore, we will not use this method for our evaluation."
   ]
  }
 ],
 "metadata": {
  "kernelspec": {
   "display_name": "newenv",
   "language": "python",
   "name": "python3"
  },
  "language_info": {
   "codemirror_mode": {
    "name": "ipython",
    "version": 3
   },
   "file_extension": ".py",
   "mimetype": "text/x-python",
   "name": "python",
   "nbconvert_exporter": "python",
   "pygments_lexer": "ipython3",
   "version": "3.9.16"
  },
  "orig_nbformat": 4,
  "vscode": {
   "interpreter": {
    "hash": "6e441c54abee8da470869f89584d3cbf37fe750ed34ff932e8ea4307c39e5524"
   }
  }
 },
 "nbformat": 4,
 "nbformat_minor": 2
}
